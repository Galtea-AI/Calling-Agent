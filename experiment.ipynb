{
 "cells": [
  {
   "cell_type": "code",
   "execution_count": 19,
   "id": "a6f9689a",
   "metadata": {},
   "outputs": [
    {
     "name": "stdout",
     "output_type": "stream",
     "text": [
      "CA1552a58179a50d058c6ed96b7ed69b30\n"
     ]
    }
   ],
   "source": [
    "# Download the helper library from https://www.twilio.com/docs/python/install\n",
    "import os\n",
    "from twilio.rest import Client\n",
    "from dotenv import load_dotenv\n",
    "\n",
    "load_dotenv()\n",
    "\n",
    "# Find your Account SID and Auth Token at twilio.com/console\n",
    "# and set the environment variables. See http://twil.io/secure\n",
    "account_sid = os.environ[\"TWILIO_ACCOUNT_SID\"]\n",
    "auth_token = os.environ[\"TWILIO_AUTH_TOKEN\"]\n",
    "client = Client(account_sid, auth_token)\n",
    "\n",
    "call = client.calls.create(\n",
    "    from_=\"+12136957366\",\n",
    "    to=\"+34960324442\",\n",
    "    url=\"https://3ed90d47e7d3.ngrok-free.app/twilio-voice\",\n",
    ")\n",
    "\n",
    "print(call.sid)"
   ]
  },
  {
   "cell_type": "code",
   "execution_count": 20,
   "id": "014b0754",
   "metadata": {},
   "outputs": [
    {
     "data": {
      "text/plain": [
       "<Twilio.Api.V2010.CallInstance account_sid=AC0879f783274ebb3e6402b0c7e540ac28 sid=CA1552a58179a50d058c6ed96b7ed69b30>"
      ]
     },
     "execution_count": 20,
     "metadata": {},
     "output_type": "execute_result"
    }
   ],
   "source": [
    "result = client.calls(f\"{call.sid}\").update(status='completed')\n",
    "result "
   ]
  },
  {
   "cell_type": "code",
   "execution_count": 7,
   "id": "a7c8ed18",
   "metadata": {},
   "outputs": [
    {
     "name": "stdout",
     "output_type": "stream",
     "text": [
      "CA1f74767423e537ac426ade207987614c\n",
      "CA05dfbba85bd7215e16aaeb973a521f92\n",
      "CA5d20f143924fb28e1f64631d8810ca26\n",
      "CA7b55a5f941b70299e335a9a88862d43b\n",
      "CAf3f7784300065b9fa0a33d065d435f63\n",
      "CAcab1259e6db5373493c326acddd5e1ee\n",
      "CAd46617dfeb6c85ee88537a76288b81a5\n",
      "CA3cd9ec8d8fe47b9ad1e4c5a269548e70\n",
      "CA5f4424cbff5a8715e9f768151fb9192d\n",
      "CA01a03679f788917f5b6d53f8dfd871f8\n",
      "CA1fc14b9b355cdd1bdd29a843d7ef99fb\n"
     ]
    }
   ],
   "source": [
    "from twilio.rest import Client\n",
    "import os\n",
    "\n",
    "# Your Account SID and Auth Token from twilio.com/console\n",
    "# and set the environment variables. See http://twil.io/secure\n",
    "account_sid = os.environ['TWILIO_ACCOUNT_SID']\n",
    "auth_token = os.environ['TWILIO_AUTH_TOKEN']\n",
    "\n",
    "client = Client(account_sid, auth_token)\n",
    "\n",
    "calls = client.calls.list(status=\"completed\")\n",
    "\n",
    "for record in calls:\n",
    "    print(record.sid)"
   ]
  },
  {
   "cell_type": "code",
   "execution_count": 11,
   "id": "408a836d",
   "metadata": {},
   "outputs": [
    {
     "name": "stdout",
     "output_type": "stream",
     "text": [
      "Call SID: CA7b55a5f941b70299e335a9a88862d43b\n",
      "From: (213) 695-7366\n",
      "To: +34960324442\n",
      "Start Time: 2025-09-10 20:05:31+00:00\n",
      "End Time: 2025-09-10 20:05:54+00:00\n",
      "Duration: 23 seconds\n",
      "\n",
      "Call SID: CAf3f7784300065b9fa0a33d065d435f63\n",
      "From: (213) 695-7366\n",
      "To: +34603829542\n",
      "Start Time: 2025-09-10 20:03:06+00:00\n",
      "End Time: 2025-09-10 20:03:09+00:00\n",
      "Duration: 3 seconds\n",
      "\n",
      "Call SID: CAcab1259e6db5373493c326acddd5e1ee\n",
      "From: (213) 695-7366\n",
      "To: +34603829542\n",
      "Start Time: 2025-09-10 20:01:21+00:00\n",
      "End Time: 2025-09-10 20:01:28+00:00\n",
      "Duration: 7 seconds\n",
      "\n",
      "Call SID: CAd46617dfeb6c85ee88537a76288b81a5\n",
      "From: (213) 695-7366\n",
      "To: +34603829542\n",
      "Start Time: 2025-09-10 19:59:07+00:00\n",
      "End Time: 2025-09-10 19:59:08+00:00\n",
      "Duration: 1 seconds\n",
      "\n",
      "Call SID: CA3cd9ec8d8fe47b9ad1e4c5a269548e70\n",
      "From: (213) 695-7366\n",
      "To: +34603829542\n",
      "Start Time: 2025-09-10 19:56:50+00:00\n",
      "End Time: 2025-09-10 19:56:59+00:00\n",
      "Duration: 9 seconds\n",
      "\n",
      "Call SID: CA5f4424cbff5a8715e9f768151fb9192d\n",
      "From: (213) 695-7366\n",
      "To: +34603829542\n",
      "Start Time: 2025-09-10 19:55:57+00:00\n",
      "End Time: 2025-09-10 19:56:03+00:00\n",
      "Duration: 6 seconds\n",
      "\n",
      "Call SID: CA01a03679f788917f5b6d53f8dfd871f8\n",
      "From: (213) 695-7366\n",
      "To: +34603829542\n",
      "Start Time: 2025-09-10 19:47:59+00:00\n",
      "End Time: 2025-09-10 19:48:07+00:00\n",
      "Duration: 8 seconds\n",
      "\n",
      "Call SID: CA1fc14b9b355cdd1bdd29a843d7ef99fb\n",
      "From: (213) 695-7366\n",
      "To: +34603829542\n",
      "Start Time: 2025-09-10 19:44:52+00:00\n",
      "End Time: 2025-09-10 19:44:56+00:00\n",
      "Duration: 4 seconds\n",
      "\n"
     ]
    }
   ],
   "source": [
    "from twilio.rest import Client\n",
    "import os\n",
    "\n",
    "# Your Account SID and Auth Token from twilio.com/console\n",
    "account_sid = os.environ['TWILIO_ACCOUNT_SID']\n",
    "auth_token = os.environ['TWILIO_AUTH_TOKEN']\n",
    "\n",
    "client = Client(account_sid, auth_token)\n",
    "\n",
    "# List all completed calls\n",
    "calls = client.calls.list(status=\"completed\")\n",
    "\n",
    "# Iterate through the calls and print their details\n",
    "for record in calls:\n",
    "    print(f\"Call SID: {record.sid}\")\n",
    "    print(f\"From: {record.from_formatted}\")\n",
    "    print(f\"To: {record.to_formatted}\")\n",
    "    print(f\"Start Time: {record.start_time}\")\n",
    "    print(f\"End Time: {record.end_time}\")\n",
    "    print(f\"Duration: {record.duration} seconds\\n\")"
   ]
  },
  {
   "cell_type": "code",
   "execution_count": null,
   "id": "68e702c6",
   "metadata": {},
   "outputs": [],
   "source": []
  }
 ],
 "metadata": {
  "kernelspec": {
   "display_name": "phoneKernel",
   "language": "python",
   "name": "phone"
  },
  "language_info": {
   "codemirror_mode": {
    "name": "ipython",
    "version": 3
   },
   "file_extension": ".py",
   "mimetype": "text/x-python",
   "name": "python",
   "nbconvert_exporter": "python",
   "pygments_lexer": "ipython3",
   "version": "3.10.18"
  }
 },
 "nbformat": 4,
 "nbformat_minor": 5
}
